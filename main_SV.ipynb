{
 "cells": [
  {
   "cell_type": "code",
   "execution_count": 1,
   "metadata": {},
   "outputs": [
    {
     "name": "stderr",
     "output_type": "stream",
     "text": [
      "/Users/mji/opt/anaconda2/lib/python2.7/site-packages/librosa/__init__.py:35: FutureWarning: You are using librosa with Python 2. Please note that librosa 0.7 will be the last version to support Python 2, after which it will require Python 3 or later.\n",
      "  FutureWarning)\n"
     ]
    }
   ],
   "source": [
    "# Importing Modules and Packages ====================================================================\n",
    "\n",
    "import librosa\n",
    "import librosa.display\n",
    "import numpy as np\n",
    "\n",
    "from bokeh.plotting import figure, output_notebook, show\n",
    "from bokeh.io import export_png\n",
    "\n",
    "from bokeh.palettes import Greys8\n",
    "from bokeh.palettes import Blues8\n",
    "from bokeh.palettes import Greens8\n",
    "from bokeh.palettes import Inferno256"
   ]
  },
  {
   "cell_type": "code",
   "execution_count": 2,
   "metadata": {},
   "outputs": [],
   "source": [
    "# Loading Audio Files ===============================================================================\n",
    "\n",
    "audio_data = '/Users/mji/Jupyter_File/sample/sample_01.wav'\n",
    "sig, sr = librosa.load(audio_data, sr = 44100)"
   ]
  },
  {
   "cell_type": "code",
   "execution_count": 3,
   "metadata": {
    "scrolled": true
   },
   "outputs": [],
   "source": [
    "# Extacting Datas From Audio ========================================================================\n",
    "\n",
    "# 1.Onset Envelope | 2.Beats | 3.Onsets -----------------------------------------------------------\n",
    "length = len(sig) / sr\n",
    "onset_frames = librosa.onset.onset_detect(sig, sr = sr)\n",
    "onsets = librosa.frames_to_time(onset_frames, sr = sr)\n",
    "onset_env = librosa.onset.onset_strength(sig, sr = sr, aggregate = np.median)\n",
    "tempo = librosa.beat.tempo(onset_envelope = onset_env, sr = sr)\n",
    "tempo, beats = librosa.beat.beat_track(onset_envelope = onset_env, sr = sr, units = 'time')\n",
    "\n",
    "# 4.Frequency & Magnitude -------------------------------------------------------------------------\n",
    "fft = np.fft.fft(sig)\n",
    "magnitude = np.abs(fft)\n",
    "magnitude_dB = librosa.amplitude_to_db(magnitude)\n",
    "frequency = np.linspace(0, sr, len(magnitude_dB))\n",
    "\n",
    "left_magnitude_dB = magnitude_dB[:len(magnitude_dB)/2]   # certain magnitude(dB)\n",
    "left_frequency = frequency[:len(magnitude_dB)/2]         # certain frequency"
   ]
  },
  {
   "cell_type": "code",
   "execution_count": 4,
   "metadata": {
    "scrolled": false
   },
   "outputs": [],
   "source": [
    "# Preparing Datas ===================================================================================\n",
    "\n",
    "# 1.Onset Envelope(propotional to audio length) ---------------------------------------------------\n",
    "E = len(onset_env)            \n",
    "x1 = np.random.rand(E) * E\n",
    "y1 = np.random.rand(E) * E\n",
    "n1 = 50\n",
    "radii_1 = np.random.rand(E) * E / n1\n",
    "#colors_1 = Greys8[5]\n",
    "colors_1 = [\"#%02x%02x%02x\" % (int(r), int(g), 180) for r, g in zip(x1, y1)]   # 255,100,37\n",
    "\n",
    "# 2.Beats -----------------------------------------------------------------------------------------\n",
    "B = len(beats)\n",
    "x2 = [x1[i] for i in range(B)]\n",
    "y2 = [y1[i] for i in range(B)]\n",
    "n2 = 13\n",
    "radii_2 = np.random.rand(B) * E / n2\n",
    "colors_2 = Blues8[2]\n",
    "\n",
    "# 3.Onsets ----------------------------------------------------------------------------------------\n",
    "O = len(onsets)\n",
    "x3 = [x1[-(i+1)] for i in range(O)]\n",
    "y3 = [y1[-(i+1)] for i in range(O)]\n",
    "n3 = 8\n",
    "size_3 = np.random.rand(O) * E / n3\n",
    "colors_3 = Greens8[2]\n",
    "\n",
    "# 4.Frequency & Magnitude -------------------------------------------------------------------------\n",
    "left_magnitude_dB_max = max(left_magnitude_dB)\n",
    "left_frequency_max = max(left_frequency)\n",
    "x_ratio = left_magnitude_dB_max / (0.5 * E)    # for modifying max value = E\n",
    "y_ratio = left_frequency_max / (0.5 * E)       # for modifying max value = E\n",
    "\n",
    "F = len(left_frequency)\n",
    "x_4 = left_magnitude_dB / x_ratio              # certain magnitude(dB)\n",
    "y_4 = left_frequency / y_ratio                 # certain frequency\n",
    "n4 = 100\n",
    "colors_4 = Inferno256[-10]\n",
    "\n",
    "x4_1 = [x_4[n4 * i] + 0.5 * E for i in range(F / n4)]\n",
    "y4_1 = [y_4[n4 * i] for i in range(F / n4)]\n",
    "\n",
    "x4_2 = [-x_4[n4 * i] + 0.5 * E for i in range(F / n4)]\n",
    "y4_2 = [y_4[n4 * i] for i in range(F / n4)]\n",
    "\n",
    "x4_3 = [x_4[n4 * i] + 0.5 * E for i in range(F / n4)]\n",
    "y4_3 = [-y_4[n4 * i] + E for i in range(F / n4)]\n",
    "\n",
    "x4_4 = [-x_4[n4 * i] + 0.5 * E for i in range(F / n4)]\n",
    "y4_4 = [-y_4[n4 * i] + E for i in range(F / n4)]\n",
    "\n",
    "# 5.Adjusting Values ------------------------------------------------------------------------------\n",
    "np.set_printoptions(precision = 0)"
   ]
  },
  {
   "cell_type": "code",
   "execution_count": 5,
   "metadata": {},
   "outputs": [],
   "source": [
    "# Creating Plots ====================================================================================\n",
    "\n",
    "p = figure(x_range = (0, E), y_range = (0, E), plot_width = E, plot_height = E)"
   ]
  },
  {
   "cell_type": "code",
   "execution_count": 6,
   "metadata": {},
   "outputs": [
    {
     "data": {
      "text/html": [
       "<div style=\"display: table;\"><div style=\"display: table-row;\"><div style=\"display: table-cell;\"><b title=\"bokeh.models.renderers.GlyphRenderer\">GlyphRenderer</b>(</div><div style=\"display: table-cell;\">id&nbsp;=&nbsp;'1136', <span id=\"1139\" style=\"cursor: pointer;\">&hellip;)</span></div></div><div class=\"1138\" style=\"display: none;\"><div style=\"display: table-cell;\"></div><div style=\"display: table-cell;\">data_source&nbsp;=&nbsp;ColumnDataSource(id='1133', ...),</div></div><div class=\"1138\" style=\"display: none;\"><div style=\"display: table-cell;\"></div><div style=\"display: table-cell;\">glyph&nbsp;=&nbsp;Line(id='1134', ...),</div></div><div class=\"1138\" style=\"display: none;\"><div style=\"display: table-cell;\"></div><div style=\"display: table-cell;\">hover_glyph&nbsp;=&nbsp;None,</div></div><div class=\"1138\" style=\"display: none;\"><div style=\"display: table-cell;\"></div><div style=\"display: table-cell;\">js_event_callbacks&nbsp;=&nbsp;{},</div></div><div class=\"1138\" style=\"display: none;\"><div style=\"display: table-cell;\"></div><div style=\"display: table-cell;\">js_property_callbacks&nbsp;=&nbsp;{},</div></div><div class=\"1138\" style=\"display: none;\"><div style=\"display: table-cell;\"></div><div style=\"display: table-cell;\">level&nbsp;=&nbsp;u'glyph',</div></div><div class=\"1138\" style=\"display: none;\"><div style=\"display: table-cell;\"></div><div style=\"display: table-cell;\">muted&nbsp;=&nbsp;False,</div></div><div class=\"1138\" style=\"display: none;\"><div style=\"display: table-cell;\"></div><div style=\"display: table-cell;\">muted_glyph&nbsp;=&nbsp;None,</div></div><div class=\"1138\" style=\"display: none;\"><div style=\"display: table-cell;\"></div><div style=\"display: table-cell;\">name&nbsp;=&nbsp;None,</div></div><div class=\"1138\" style=\"display: none;\"><div style=\"display: table-cell;\"></div><div style=\"display: table-cell;\">nonselection_glyph&nbsp;=&nbsp;Line(id='1135', ...),</div></div><div class=\"1138\" style=\"display: none;\"><div style=\"display: table-cell;\"></div><div style=\"display: table-cell;\">selection_glyph&nbsp;=&nbsp;None,</div></div><div class=\"1138\" style=\"display: none;\"><div style=\"display: table-cell;\"></div><div style=\"display: table-cell;\">subscribed_events&nbsp;=&nbsp;[],</div></div><div class=\"1138\" style=\"display: none;\"><div style=\"display: table-cell;\"></div><div style=\"display: table-cell;\">tags&nbsp;=&nbsp;[],</div></div><div class=\"1138\" style=\"display: none;\"><div style=\"display: table-cell;\"></div><div style=\"display: table-cell;\">view&nbsp;=&nbsp;CDSView(id='1137', ...),</div></div><div class=\"1138\" style=\"display: none;\"><div style=\"display: table-cell;\"></div><div style=\"display: table-cell;\">visible&nbsp;=&nbsp;True,</div></div><div class=\"1138\" style=\"display: none;\"><div style=\"display: table-cell;\"></div><div style=\"display: table-cell;\">x_range_name&nbsp;=&nbsp;u'default',</div></div><div class=\"1138\" style=\"display: none;\"><div style=\"display: table-cell;\"></div><div style=\"display: table-cell;\">y_range_name&nbsp;=&nbsp;u'default')</div></div></div>\n",
       "<script>\n",
       "(function() {\n",
       "  var expanded = false;\n",
       "  var ellipsis = document.getElementById(\"1139\");\n",
       "  ellipsis.addEventListener(\"click\", function() {\n",
       "    var rows = document.getElementsByClassName(\"1138\");\n",
       "    for (var i = 0; i < rows.length; i++) {\n",
       "      var el = rows[i];\n",
       "      el.style.display = expanded ? \"none\" : \"table-row\";\n",
       "    }\n",
       "    ellipsis.innerHTML = expanded ? \"&hellip;)\" : \"&lsaquo;&lsaquo;&lsaquo;\";\n",
       "    expanded = !expanded;\n",
       "  });\n",
       "})();\n",
       "</script>\n"
      ],
      "text/plain": [
       "GlyphRenderer(id='1136', ...)"
      ]
     },
     "execution_count": 6,
     "metadata": {},
     "output_type": "execute_result"
    }
   ],
   "source": [
    "# Add Renderers =====================================================================================\n",
    "\n",
    "# 1.Onset Envelope(propotional to audio length) -----------------------------------------------------\n",
    "p.circle(x1, y1, radius = radii_1, fill_color = colors_1, fill_alpha = 0.15, line_color = None)\n",
    "p.circle(x1, y1, color = \"white\", size = 1, alpha = 0.15)\n",
    "p.line(\n",
    "    x1, y1, line_color = \"white\", line_width = 0.3, line_dash = \"dashdot\", line_alpha = 0.25)\n",
    "\n",
    "# 2.Beats -------------------------------------------------------------------------------------------\n",
    "p.circle(\n",
    "    x2, y2, radius = radii_2, fill_color = colors_2, fill_alpha = 0.1,\n",
    "    line_color = colors_2, line_width = 1, line_dash = \"dotted\", line_alpha = 0.8)\n",
    "p.circle(\n",
    "    x2, y2, radius = radii_2 / 2, fill_color = colors_2, fill_alpha = 0.1,\n",
    "    line_color = colors_2, line_width = 1, line_dash = \"dotted\", line_alpha = 0.8)\n",
    "p.circle(\n",
    "    x2, y2, radius = radii_2 / 4, fill_color = colors_2, fill_alpha = 0.1,\n",
    "    line_color = colors_2, line_width = 1, line_dash = \"dotted\", line_alpha = 0.8)\n",
    "p.cross(x2, y2, color = colors_2, size = 10, alpha = 1)\n",
    "p.line(\n",
    "    x2, y2, line_color = colors_2, line_width = 1, line_dash = \"dotted\", line_alpha = 0.8)\n",
    "\n",
    "# 3.Onsets ------------------------------------------------------------------------------------------\n",
    "p.square(\n",
    "    x3, y3, size = size_3, angle = 45, fill_color = colors_3, fill_alpha = 0.1,\n",
    "    line_color = colors_3, line_width = 1, line_dash = \"4 4\", line_alpha = 0.8)\n",
    "p.square(\n",
    "    x3, y3, size = size_3 / 2, angle = 45, fill_color = colors_3, fill_alpha = 0.1,\n",
    "    line_color = colors_3, line_width = 1, line_dash = \"4 4\", line_alpha = 0.8)\n",
    "p.square(\n",
    "    x3, y3, size = size_3 / 4, angle = 45, fill_color = colors_3, fill_alpha = 0.1,\n",
    "    line_color = colors_3, line_width = 1, line_dash = \"4 4\", line_alpha = 0.8)\n",
    "p.cross(x3, y3, angle = 45, color = colors_3, size = 10, alpha = 1)\n",
    "p.line(\n",
    "    x3, y3, line_color = colors_3, line_width = 1, line_dash = \"dashed\", line_alpha = 0.8)\n",
    "\n",
    "# 4.Frequency & Magnitude ---------------------------------------------------------------------------\n",
    "p.line(x4_1, y4_1, line_color = colors_4, line_dash = \"dotted\", line_width = 0.6, line_alpha = 0.4)\n",
    "p.line(x4_2, y4_2, line_color = colors_4, line_dash = \"dotted\", line_width = 0.6, line_alpha = 0.4)\n",
    "p.line(x4_3, y4_3, line_color = colors_4, line_dash = \"dotted\", line_width = 0.6, line_alpha = 0.4)\n",
    "p.line(x4_4, y4_4, line_color = colors_4, line_dash = \"dotted\", line_width = 0.6, line_alpha = 0.4)\n",
    "p.line(y4_1, x4_1, line_color = colors_4, line_dash = \"dotted\", line_width = 0.6, line_alpha = 0.4)\n",
    "p.line(y4_2, x4_2, line_color = colors_4, line_dash = \"dotted\", line_width = 0.6, line_alpha = 0.4)\n",
    "p.line(y4_3, x4_3, line_color = colors_4, line_dash = \"dotted\", line_width = 0.6, line_alpha = 0.4)\n",
    "p.line(y4_4, x4_4, line_color = colors_4, line_dash = \"dotted\", line_width = 0.6, line_alpha = 0.4)"
   ]
  },
  {
   "cell_type": "code",
   "execution_count": 7,
   "metadata": {},
   "outputs": [],
   "source": [
    "# Setting Properties ================================================================================\n",
    "\n",
    "# Background Properties\n",
    "p.background_fill_color = \"black\"\n",
    "p.background_fill_alpha = 1\n",
    "\n",
    "# Outline Properties\n",
    "p.outline_line_width = 0\n",
    "p.outline_line_alpha = 0\n",
    "p.outline_line_color = \"black\"\n",
    "\n",
    "# Border Properties\n",
    "p.min_border_left = 0\n",
    "p.min_border_right = 0\n",
    "p.min_border_top = 0\n",
    "p.min_border_bottom = 0\n",
    "\n",
    "# Grid / Axes Properties\n",
    "p.grid.visible = False\n",
    "p.xaxis.visible = False\n",
    "p.yaxis.visible = False\n",
    "\n",
    "# Toolbar Properties\n",
    "p.toolbar.logo = None\n",
    "p.toolbar_location = None"
   ]
  },
  {
   "cell_type": "code",
   "execution_count": 8,
   "metadata": {
    "scrolled": false
   },
   "outputs": [
    {
     "data": {
      "text/plain": [
       "'/Users/mji/Jupyter_File/sample_01.png'"
      ]
     },
     "execution_count": 8,
     "metadata": {},
     "output_type": "execute_result"
    }
   ],
   "source": [
    "# Showing Outputs ===================================================================================\n",
    "\n",
    "# Output to PNG file\n",
    "export_png(p, filename = \"sample_01.png\")"
   ]
  },
  {
   "cell_type": "code",
   "execution_count": null,
   "metadata": {},
   "outputs": [],
   "source": []
  },
  {
   "cell_type": "code",
   "execution_count": null,
   "metadata": {},
   "outputs": [],
   "source": []
  }
 ],
 "metadata": {
  "kernelspec": {
   "display_name": "Python 2",
   "language": "python",
   "name": "python2"
  },
  "language_info": {
   "codemirror_mode": {
    "name": "ipython",
    "version": 2
   },
   "file_extension": ".py",
   "mimetype": "text/x-python",
   "name": "python",
   "nbconvert_exporter": "python",
   "pygments_lexer": "ipython2",
   "version": "2.7.16"
  }
 },
 "nbformat": 4,
 "nbformat_minor": 2
}
